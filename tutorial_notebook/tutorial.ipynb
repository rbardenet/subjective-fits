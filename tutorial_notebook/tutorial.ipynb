{
 "cells": [
  {
   "cell_type": "code",
   "execution_count": 13,
   "metadata": {},
   "outputs": [
    {
     "name": "stdout",
     "output_type": "stream",
     "text": [
      "Populating the interactive namespace from numpy and matplotlib\n",
      "The autoreload extension is already loaded. To reload it, use:\n",
      "  %reload_ext autoreload\n"
     ]
    },
    {
     "name": "stderr",
     "output_type": "stream",
     "text": [
      "/Users/johnklein/anaconda3/lib/python3.6/site-packages/IPython/core/magics/pylab.py:161: UserWarning: pylab import has clobbered these variables: ['gamma']\n",
      "`%matplotlib` prevents importing * from pylab and numpy\n",
      "  \"\\n`%matplotlib` prevents importing * from pylab and numpy\"\n"
     ]
    }
   ],
   "source": [
    "%pylab inline\n",
    "%load_ext autoreload\n",
    "%autoreload 2\n",
    "import matplotlib.pyplot as plt\n",
    "import numpy as np\n",
    "import numpy.random as npr\n",
    "import sys\n",
    "sys.path.append(\"../subjective-fits/\")\n",
    "import seaborn as sns\n",
    "figsize(8,6)"
   ]
  },
  {
   "cell_type": "code",
   "execution_count": 14,
   "metadata": {
    "collapsed": true
   },
   "outputs": [],
   "source": [
    "mpl.rcParams['xtick.labelsize'] = 22\n",
    "mpl.rcParams['ytick.labelsize'] = 22\n",
    "plt.rc('axes', labelsize=22)\n",
    "plt.rc('legend', fontsize=22)\n",
    "mpl.rcParams['ps.useafm'] = True\n",
    "mpl.rcParams['pdf.use14corefonts'] = True\n",
    "mpl.rcParams['text.usetex'] = True"
   ]
  },
  {
   "cell_type": "markdown",
   "metadata": {},
   "source": [
    "# Comparing approaches to subjective probability and statistics"
   ]
  },
  {
   "cell_type": "markdown",
   "metadata": {},
   "source": [
    "We illustrate various approaches to statistics based on subjective probability. Our test case is the estimation of the mean of a one-dimensional Gaussian. We will demonstrate each approach to subjective probability using one point estimate and one \"uncertainty\" interval. We will also comment on the mathematical derivation as well as the interpretation of these two outputs differ for each approach."
   ]
  },
  {
   "cell_type": "markdown",
   "metadata": {},
   "source": [
    "The setting is $x_1,\\dots,x_N\\sim\\mathcal{N}(\\mu,\\sigma^2)$, with $\\sigma^2$ known. The statistician's goal is to infer $\\mu$, and state his uncertainty about his estimate. "
   ]
  },
  {
   "cell_type": "code",
   "execution_count": 15,
   "metadata": {
    "collapsed": true
   },
   "outputs": [],
   "source": [
    "def generateData(N, mu, sigma2, tag=\"well-specified\"):\n",
    "    if tag==\"well-specified\":\n",
    "        return mu+np.sqrt(sigma2)*npr.randn(N)"
   ]
  },
  {
   "cell_type": "code",
   "execution_count": 16,
   "metadata": {
    "collapsed": true
   },
   "outputs": [],
   "source": [
    "npr.seed(1)\n",
    "muTrue = 1\n",
    "sigma2True = 1\n",
    "alpha = .05\n",
    "gamma = 1 # importance of the length of the interval vs. the interval containing the true value\n",
    "N = 10\n",
    "x = generateData(N, muTrue, sigma2True)"
   ]
  },
  {
   "cell_type": "code",
   "execution_count": 17,
   "metadata": {},
   "outputs": [
    {
     "data": {
      "image/png": "[encoded data removed]",
      "text/plain": [
       "<matplotlib.figure.Figure at 0x110e1aef0>"
      ]
     },
     "metadata": {},
     "output_type": "display_data"
    }
   ],
   "source": [
    "plt.hist(x)\n",
    "plt.show()"
   ]
  },
  {
   "cell_type": "markdown",
   "metadata": {},
   "source": [
    "The dataset is denoted by $\\mathcal{D}= \\left\\lbrace x_1, ..., x_N \\right\\rbrace$. The corresonding likelihood function is \n",
    "$$ L \\left( \\theta; \\mathcal{D} \\right)  = \\prod_{i=1}^N \\frac{1}{\\sigma \\sqrt{2\\pi}}\\exp \\left( - \\frac{\\left( \\theta - x_i \\right)^2}{2 \\sigma^2} \\right).$$\n",
    "\n",
    "The maximum likelihood estimate (MLE) of $\\mu$ is the sample mean $\\bar{x}$."
   ]
  },
  {
   "cell_type": "markdown",
   "metadata": {},
   "source": [
    "## Conjugate Bayes"
   ]
  },
  {
   "cell_type": "markdown",
   "metadata": {},
   "source": [
    "TODO: Describe here the Bayesian approach, including the cost function\n",
    "\n",
    "Define the following interval cost function:\n",
    "$$J \\left (\\alpha \\right) = \\gamma \\vert I_\\alpha\\vert + 1_{\\theta\\notin I_\\alpha} $$\n",
    "\n",
    "The first term penalizes the interval width, i.e. the precision of the piece of information $\\mu \\in I_\\alpha$. The second term penalizes the inability of $I_\\alpha$ to contain $\\mu$. Finally $\\gamma$ is a usual tradeoff hyper that regulates the relative strengths of both terms."
   ]
  },
  {
   "cell_type": "code",
   "execution_count": 18,
   "metadata": {
    "collapsed": true
   },
   "outputs": [],
   "source": [
    "import ConjugateBayes as cb\n",
    "cb = cb.ConjugateBayes(data=x, sigma2Lhd=sigma2True**2, muPrior=100, sigma2Prior=10)"
   ]
  },
  {
   "cell_type": "code",
   "execution_count": 19,
   "metadata": {},
   "outputs": [
    {
     "name": "stdout",
     "output_type": "stream",
     "text": [
      "1.8840189199939603\n",
      "(1.26729981254352, 2.5007380274444007)\n"
     ]
    }
   ],
   "source": [
    "#Each approaches should be implemented in one class, in a separate python file. Each approach should have the following two methods:\n",
    "print(cb.estimate()) # yields a point estimate, here the posterior mean\n",
    "print(cb.interval(1-alpha)) # yields an uncertainty quantification, here a credible interval of posterior mass 1-alpha"
   ]
  },
  {
   "cell_type": "markdown",
   "metadata": {},
   "source": [
    "Now among centered intervals, I want to pick the one with the best integrated cost \n",
    "$$\\int \\left(\\gamma \\vert I_\\alpha\\vert + 1_{\\theta\\notin I_\\alpha}\\right) p(\\theta\\vert x)d\\theta = \\gamma \\vert I_\\alpha\\vert + \\alpha$$"
   ]
  },
  {
   "cell_type": "code",
   "execution_count": 20,
   "metadata": {},
   "outputs": [
    {
     "name": "stdout",
     "output_type": "stream",
     "text": [
      "The cost is minimized for alpha= 0.495050505050505\n"
     ]
    }
   ],
   "source": [
    "alphas = np.linspace(0.01,.99, 100)\n",
    "costs_cb = []\n",
    "for alpha  in alphas:\n",
    "    # Compute cost for various alphas\n",
    "    lo, hi = cb.interval(1-alpha)\n",
    "    costs_cb.append( gamma*(hi-lo) + alpha )\n",
    "\n",
    "ind = np.argmin(costs_cb) # Find the alpha that minimizes the cost\n",
    "alphaStar = alphas[ind]\n",
    "print(\"The cost is minimized for alpha=\", alphaStar)"
   ]
  },
  {
   "cell_type": "code",
   "execution_count": 21,
   "metadata": {},
   "outputs": [
    {
     "data": {
      "image/png": "[encoded data removed]",
      "text/plain": [
       "<matplotlib.figure.Figure at 0x111288a90>"
      ]
     },
     "metadata": {},
     "output_type": "display_data"
    }
   ],
   "source": [
    "# We can visualize this best alpha\n",
    "plt.plot(alphas, costs_cb)\n",
    "plt.xlabel(r\"$\\alpha$\")\n",
    "plt.ylabel(\"cost\")\n",
    "plt.grid()\n",
    "plt.show()"
   ]
  },
  {
   "cell_type": "markdown",
   "metadata": {},
   "source": [
    "The Bayes action is to report the credible interval with $\\alpha$ set to the minizer of this curve!"
   ]
  },
  {
   "cell_type": "markdown",
   "metadata": {},
   "source": [
    "## Likelihood based Belief Function\n",
    "In the belief function framework, as well as in other ill-known probabilities frameworks, we work with a pair of functions interpreted as lower and upper bounds of the odds of $\\theta$ being $\\mu$. The lower bound $bel$ is called **belief function** while the upper bound $pl$ is called **plausibility function**. These functions are set functions, which means that their domain is the set of subsets of $\\Theta = \\mathbb{R}$. For any subset $A\\subset \\Theta$, the two functions are related by\n",
    "\n",
    "$$bel \\left( A \\right) = 1 - pl \\left(A^c\\right).$$\n",
    "\n",
    "Our inference on $\\mu$ is represented by the likelihood based belief function. The corresponding plausibility function is defined as \n",
    "$$ pl \\left( \\theta \\right) = \\frac{L \\left( \\theta ; \\mathcal{D} \\right)}{L \\left( \\bar{x} ; \\mathcal{D} \\right)}, \\forall \\theta \\in \\mathbb{R} \\\\\n",
    "pl \\left( H \\right) = \\underset{\\theta \\in H}{\\sup} pl \\left( \\theta \\right), \\forall H \\subseteq \\mathbb{R}\n",
    "$$"
   ]
  },
  {
   "cell_type": "code",
   "execution_count": 22,
   "metadata": {
    "collapsed": true
   },
   "outputs": [],
   "source": [
    "import BaselineBF as bf\n",
    "bf = bf.BaselineBF(data=x, sigma2Lhd=sigma2True)"
   ]
  },
  {
   "cell_type": "code",
   "execution_count": 23,
   "metadata": {},
   "outputs": [
    {
     "name": "stdout",
     "output_type": "stream",
     "text": [
      "0.9028591091939001\n",
      "(-0.056846073243716155, 1.8625642916315164)\n"
     ]
    }
   ],
   "source": [
    "print(bf.estimate()) # yields a point estimate, here the MLE\n",
    "print(bf.interval(1-alpha))"
   ]
  },
  {
   "cell_type": "markdown",
   "metadata": {},
   "source": [
    "  Now, we are still interested in the same interval cost function $J \\left(\\alpha \\right)$, but we have two non additive measures against which it can be integrated :\n",
    "  $$ (C)\\int J\\: dbel = \\gamma \\vert I_\\alpha \\vert \\text{ (Conservative approach)},\\\\\n",
    "  (C)\\int J\\: dpl = \\gamma \\vert I_\\alpha \\vert + \\alpha \\text{ (Optimistic approach)},$$\n",
    "  \n",
    "  where $(C)\\int$ is the Choquet integral symbol."
   ]
  },
  {
   "cell_type": "code",
   "execution_count": 24,
   "metadata": {},
   "outputs": [
    {
     "data": {
      "image/png": "[encoded data removed]",
      "text/plain": [
       "<matplotlib.figure.Figure at 0x1113fd278>"
      ]
     },
     "metadata": {},
     "output_type": "display_data"
    }
   ],
   "source": [
    "costs_cons = []\n",
    "costs_optm = []\n",
    "for alpha  in alphas:\n",
    "    lo, hi = bf.interval(1-alpha)\n",
    "    costs_cons.append( gamma*(hi-lo))\n",
    "    costs_optm.append( gamma*(hi-lo) + alpha )\n",
    "\n",
    "plt.plot(alphas, costs_cons, label=\"conservative\")\n",
    "plt.plot(alphas, costs_optm, label=\"optimistic\")\n",
    "plt.plot(alphas, costs_cb, '--', label=\"conjugate Bayes\")\n",
    "plt.xlabel(r\"$\\alpha$\")\n",
    "plt.ylabel(\"cost\")\n",
    "plt.legend()\n",
    "plt.show()"
   ]
  },
  {
   "cell_type": "markdown",
   "metadata": {},
   "source": [
    "The optimistic integrated cost minimizer seems to coincide with the Bayesian solution. The conservative cost minimizer is achieved for $\\alpha=1$, meaning that we infer that $\\mu = \\bar{x}$ while we cannot produce a \"confidence\" interval in light of the available data."
   ]
  },
  {
   "cell_type": "code",
   "execution_count": null,
   "metadata": {
    "collapsed": true
   },
   "outputs": [],
   "source": []
  }
 ],
 "metadata": {
  "kernelspec": {
   "display_name": "Python 3",
   "language": "python",
   "name": "python3"
  },
  "language_info": {
   "codemirror_mode": {
    "name": "ipython",
    "version": 3
   },
   "file_extension": ".py",
   "mimetype": "text/x-python",
   "name": "python",
   "nbconvert_exporter": "python",
   "pygments_lexer": "ipython3",
   "version": "3.6.1"
  }
 },
 "nbformat": 4,
 "nbformat_minor": 2
}
