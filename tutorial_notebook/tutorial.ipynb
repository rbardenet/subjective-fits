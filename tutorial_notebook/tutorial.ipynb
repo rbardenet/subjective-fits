{
 "cells": [
  {
   "cell_type": "code",
   "execution_count": 1,
   "metadata": {},
   "outputs": [
    {
     "name": "stdout",
     "output_type": "stream",
     "text": [
      "Populating the interactive namespace from numpy and matplotlib\n"
     ]
    }
   ],
   "source": [
    "%pylab inline\n",
    "%load_ext autoreload\n",
    "%autoreload 2\n",
    "import matplotlib.pyplot as plt\n",
    "import numpy as np\n",
    "import numpy.random as npr\n",
    "import sys\n",
    "sys.path.append(\"../subjective-fits/\")\n",
    "import seaborn as sns\n",
    "figsize(8,6)"
   ]
  },
  {
   "cell_type": "code",
   "execution_count": 2,
   "metadata": {
    "collapsed": true
   },
   "outputs": [],
   "source": [
    "mpl.rcParams['xtick.labelsize'] = 22\n",
    "mpl.rcParams['ytick.labelsize'] = 22\n",
    "plt.rc('axes', labelsize=22)\n",
    "plt.rc('legend', fontsize=22)\n",
    "mpl.rcParams['ps.useafm'] = True\n",
    "mpl.rcParams['pdf.use14corefonts'] = True\n",
    "mpl.rcParams['text.usetex'] = True"
   ]
  },
  {
   "cell_type": "markdown",
   "metadata": {},
   "source": [
    "# Comparing approaches to subjective probability and statistics"
   ]
  },
  {
   "cell_type": "markdown",
   "metadata": {},
   "source": [
    "We illustrate various approaches to statistics based on subjective probability. Our test case is the estimation of the mean of a one-dimensional Gaussian. We will demonstrate each approach to subjective probability using one point estimate and one \"uncertainty\" interval. We will also comment on the mathematical derivation as well as the interpretation of these two outputs differ for each approach."
   ]
  },
  {
   "cell_type": "markdown",
   "metadata": {},
   "source": [
    "The setting is $x_1,\\dots,x_N\\sim\\mathcal{N}(\\mu,\\sigma^2)$, with $\\sigma^2$ known. The statistician's goal is to infer $\\mu$, and state his uncertainty about his estimate. "
   ]
  },
  {
   "cell_type": "code",
   "execution_count": 3,
   "metadata": {
    "collapsed": true
   },
   "outputs": [],
   "source": [
    "def generateData(N, mu, sigma2, tag=\"well-specified\"):\n",
    "    if tag==\"well-specified\":\n",
    "        return mu+np.sqrt(sigma2)*npr.randn(N)"
   ]
  },
  {
   "cell_type": "code",
   "execution_count": 4,
   "metadata": {
    "collapsed": true
   },
   "outputs": [],
   "source": [
    "npr.seed(1)\n",
    "muTrue = 1\n",
    "sigma2True = 1\n",
    "alpha = .05\n",
    "gamma = 1 # importance of the length of the interval vs. the interval containing the true value\n",
    "N = 10\n",
    "x = generateData(N, muTrue, sigma2True)"
   ]
  },
  {
   "cell_type": "code",
   "execution_count": 5,
   "metadata": {},
   "outputs": [
    {
     "data": {
      "image/png": "iVBORw0KGgoAAAANSUhEUgAAAecAAAFvCAYAAABw7gPhAAAABHNCSVQICAgIfAhkiAAAAAlwSFlz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\nVR7q5XUAAAAASUVORK5CYII=\n",
      "text/plain": [
       "<matplotlib.figure.Figure at 0x110b34518>"
      ]
     },
     "metadata": {},
     "output_type": "display_data"
    }
   ],
   "source": [
    "plt.hist(x)\n",
    "plt.show()"
   ]
  },
  {
   "cell_type": "markdown",
   "metadata": {},
   "source": [
    "The dataset is denoted by $\\mathcal{D}= \\left\\lbrace x_1, ..., x_N \\right\\rbrace$. The corresonding likelihood function is \n",
    "$$ L \\left( \\theta; \\mathcal{D} \\right)  = \\prod_{i=1}^N \\frac{1}{\\sigma \\sqrt{2\\pi}}\\exp \\left( - \\frac{\\left( \\theta - x_i \\right)^2}{2 \\sigma^2} \\right).$$\n",
    "\n",
    "The maximum likelihood estimate (MLE) of $\\mu$ is the sample mean $\\bar{x}$."
   ]
  },
  {
   "cell_type": "markdown",
   "metadata": {},
   "source": [
    "## Conjugate Bayes"
   ]
  },
  {
   "cell_type": "markdown",
   "metadata": {},
   "source": [
    "TODO: Describe here the Bayesian approach, including the cost function\n",
    "\n",
    "Define the following interval cost function:\n",
    "$$J \\left (\\alpha \\right) = \\gamma \\vert I_\\alpha\\vert + 1_{\\theta\\notin I_\\alpha} $$\n",
    "\n",
    "The first term penalizes the interval width, i.e. the precision of the piece of information $\\mu \\in I_\\alpha$. The second term penalizes the inability of $I_\\alpha$ to contain $\\mu$. Finally $\\gamma$ is a usual tradeoff hyper that regulates the relative strengths of both terms."
   ]
  },
  {
   "cell_type": "code",
   "execution_count": 26,
   "metadata": {},
   "outputs": [],
   "source": [
    "import ConjugateBayes as cb\n",
    "cb = cb.ConjugateBayes(data=x, sigma2Lhd=sigma2True**2, muPrior=100, sigma2Prior=10)"
   ]
  },
  {
   "cell_type": "code",
   "execution_count": 27,
   "metadata": {},
   "outputs": [
    {
     "name": "stdout",
     "output_type": "stream",
     "text": [
      "1.8840189199939603\n",
      "(1.8800751586854647, 1.887962681302456)\n"
     ]
    }
   ],
   "source": [
    "#Each approaches should be implemented in one class, in a separate python file. Each approach should have the following two methods:\n",
    "print(cb.estimate()) # yields a point estimate, here the posterior mean\n",
    "print(cb.interval(1-alpha)) # yields an uncertainty quantification, here a credible interval of posterior mass 1-alpha"
   ]
  },
  {
   "cell_type": "markdown",
   "metadata": {},
   "source": [
    "Now among centered intervals, I want to pick the one with the best integrated cost \n",
    "$$\\int \\left(\\gamma \\vert I_\\alpha\\vert + 1_{\\theta\\notin I_\\alpha}\\right) p(\\theta\\vert x)d\\theta = \\gamma \\vert I_\\alpha\\vert + \\alpha$$"
   ]
  },
  {
   "cell_type": "code",
   "execution_count": 28,
   "metadata": {},
   "outputs": [
    {
     "name": "stdout",
     "output_type": "stream",
     "text": [
      "The cost is minimized for alpha= 0.495050505050505\n"
     ]
    }
   ],
   "source": [
    "alphas = np.linspace(0.01,.99, 100)\n",
    "costs_cb = []\n",
    "for alpha  in alphas:\n",
    "    # Compute cost for various alphas\n",
    "    lo, hi = cb.interval(1-alpha)\n",
    "    costs_cb.append( gamma*(hi-lo) + alpha )\n",
    "\n",
    "ind = np.argmin(costs_cb) # Find the alpha that minimizes the cost\n",
    "alphaStar = alphas[ind]\n",
    "print(\"The cost is minimized for alpha=\", alphaStar)"
   ]
  },
  {
   "cell_type": "code",
   "execution_count": 29,
   "metadata": {},
   "outputs": [
    {
     "data": {
      "image/png": "iVBORw0KGgoAAAANSUhEUgAAAggAAAGKCAYAAABpbLktAAAABHNCSVQICAgIfAhkiAAAAAlwSFlz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\n",
      "text/plain": [
       "<matplotlib.figure.Figure at 0x106ce9fd0>"
      ]
     },
     "metadata": {},
     "output_type": "display_data"
    }
   ],
   "source": [
    "# We can visualize this best alpha\n",
    "plt.plot(alphas, costs_cb)\n",
    "plt.xlabel(r\"$\\alpha$\")\n",
    "plt.ylabel(\"cost\")\n",
    "plt.grid()\n",
    "plt.show()"
   ]
  },
  {
   "cell_type": "markdown",
   "metadata": {},
   "source": [
    "The Bayes action is to report the credible interval with $\\alpha$ set to the minizer of this curve!"
   ]
  },
  {
   "cell_type": "markdown",
   "metadata": {},
   "source": [
    "## Likelihood based Belief Function\n",
    "In the belief function framework, as well as in other ill-known probabilities frameworks, we work with a pair of functions interpreted as lower and upper bounds of the odds of $\\theta$ being $\\mu$. The lower bound $bel$ is called **belief function** while the upper bound $pl$ is called **plausibility function**. These functions are set functions, which means that their domain is the set of subsets of $\\Theta = \\mathbb{R}$. For any subset $A\\subset \\Theta$, the two functions are related by\n",
    "\n",
    "$$bel \\left( A \\right) = 1 - pl \\left(A^c\\right).$$\n",
    "\n",
    "Our inference on $\\mu$ is represented by the likelihood based belief function. The corresponding plausibility function is defined as \n",
    "$$ pl \\left( \\theta \\right) = \\frac{L \\left( \\theta ; \\mathcal{D} \\right)}{L \\left( \\bar{x} ; \\mathcal{D} \\right)}, \\forall \\theta \\in \\mathbb{R} \\\\\n",
    "pl \\left( H \\right) = \\underset{\\theta \\in H}{\\sup} pl \\left( \\theta \\right), \\forall H \\subseteq \\mathbb{R}\n",
    "$$"
   ]
  },
  {
   "cell_type": "code",
   "execution_count": 9,
   "metadata": {
    "collapsed": true
   },
   "outputs": [],
   "source": [
    "import BaselineBF as bf\n",
    "bf = bf.BaselineBF(data=x, sigma2Lhd=sigma2True)"
   ]
  },
  {
   "cell_type": "code",
   "execution_count": 10,
   "metadata": {},
   "outputs": [
    {
     "name": "stdout",
     "output_type": "stream",
     "text": [
      "1.0605828520756986\n",
      "(0.45361200032164006, 1.667553703829757)\n"
     ]
    }
   ],
   "source": [
    "print(bf.estimate()) # yields a point estimate, here the MLE\n",
    "print(bf.interval(1-alpha))"
   ]
  },
  {
   "cell_type": "markdown",
   "metadata": {},
   "source": [
    "  Now, we are still interested in the same interval cost function $J \\left(\\alpha \\right)$, but we have two non additive measures against which it can be integrated :\n",
    "  $$ (C)\\int J\\: dbel = \\gamma \\vert I_\\alpha \\vert \\text{ (Conservative approach)},\\\\\n",
    "  (C)\\int J\\: dpl = \\gamma \\vert I_\\alpha \\vert + \\alpha \\text{ (Optimistic approach)},$$\n",
    "  \n",
    "  where $(C)\\int$ is the Choquet integral symbol."
   ]
  },
  {
   "cell_type": "code",
   "execution_count": 12,
   "metadata": {},
   "outputs": [
    {
     "data": {
      "image/png": "iVBORw0KGgoAAAANSUhEUgAAAgUAAAGGCAYAAADrUPLmAAAABHNCSVQICAgIfAhkiAAAAAlwSFlz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\nAAAASUVORK5CYII=\n",
      "text/plain": [
       "<matplotlib.figure.Figure at 0x110f8e358>"
      ]
     },
     "metadata": {},
     "output_type": "display_data"
    }
   ],
   "source": [
    "costs_cons = []\n",
    "costs_optm = []\n",
    "for alpha  in alphas:\n",
    "    lo, hi = bf.interval(1-alpha)\n",
    "    costs_cons.append( gamma*(hi-lo))\n",
    "    costs_optm.append( gamma*(hi-lo) + alpha )\n",
    "\n",
    "plt.plot(alphas, costs_cons, label=\"conservative\")\n",
    "plt.plot(alphas, costs_optm, label=\"optimistic\")\n",
    "plt.plot(alphas, costs_cb, '--', label=\"conjugate Bayes\")\n",
    "plt.xlabel(r\"$\\alpha$\")\n",
    "plt.ylabel(\"cost\")\n",
<<<<<<< HEAD
    "plt.legend()\n",
=======
    "plt.legend(['Conservative','Optimistic'])\n",
>>>>>>> 1e4f1a20c74757e81b4dd755fbf738537c201306
    "plt.show()"
   ]
  },
  {
   "cell_type": "markdown",
   "metadata": {},
   "source": [
    "The optimistic integrated cost minimizer seems to coincide with the Bayesian solution. The conservative cost minimizer is achieved for $\\alpha=1$, meaning that we infer that $\\mu = \\bar{x}$ while we cannot produce a \"confidence\" interval in light of the available data."
   ]
  },
  {
   "cell_type": "code",
   "execution_count": null,
   "metadata": {},
   "outputs": [],
   "source": []
  }
 ],
 "metadata": {
  "kernelspec": {
   "display_name": "Python 3",
   "language": "python",
   "name": "python3"
  },
  "language_info": {
   "codemirror_mode": {
    "name": "ipython",
    "version": 3
   },
   "file_extension": ".py",
   "mimetype": "text/x-python",
   "name": "python",
   "nbconvert_exporter": "python",
   "pygments_lexer": "ipython3",
   "version": "3.5.4"
  }
 },
 "nbformat": 4,
 "nbformat_minor": 2
}
